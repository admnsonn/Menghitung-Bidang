{
  "nbformat": 4,
  "nbformat_minor": 0,
  "metadata": {
    "colab": {
      "name": "Menghitung",
      "provenance": [],
      "collapsed_sections": []
    },
    "kernelspec": {
      "name": "python3",
      "display_name": "Python 3"
    }
  },
  "cells": [
    {
      "cell_type": "code",
      "metadata": {
        "colab": {
          "base_uri": "https://localhost:8080/"
        },
        "id": "UJ0Jj_6EZDlX",
        "outputId": "665d71f9-97fd-43ab-ff40-8fa7f757546d"
      },
      "source": [
        "panjang = int(input(\"Masukkan panjang balok: \"))\r\n",
        "lebar = int(input(\"Masukkan lebar balok: \"))\r\n",
        "tinggi = int(input(\"Masukkan tinggi balok: \"))\r\n",
        " \r\n",
        "volume = panjang*lebar*tinggi\r\n",
        "luas = 2*(panjang*lebar + panjang*tinggi + lebar*tinggi)\r\n",
        "\r\n",
        "print(\"------------------\")\r\n",
        "print(\"MAKA HASILNYA\")\r\n",
        "print(\"Volume balok: \",volume)\r\n",
        "print(\"Luas balok: \",luas)\r\n",
        "\r\n"
      ],
      "execution_count": null,
      "outputs": [
        {
          "output_type": "stream",
          "text": [
            "Masukkan panjang balok: 20\n",
            "Masukkan lebar balok: 10\n",
            "Masukkan tinggi balok: 10\n",
            "------------------\n",
            "MAKA HASILNYA\n",
            "Volume balok:  2000\n",
            "Luas balok:  1000\n"
          ],
          "name": "stdout"
        }
      ]
    },
    {
      "cell_type": "code",
      "metadata": {
        "colab": {
          "base_uri": "https://localhost:8080/"
        },
        "id": "1XMIi0zJcPHV",
        "outputId": "f435150f-6035-4375-8ae7-1a7514543e85"
      },
      "source": [
        "jari = int(input(\"Masukan Jari-jarinya  : \"))\r\n",
        "tinggi = int(input(\"Masukan Tinggginya    : \"))\r\n",
        "\r\n",
        "pi = 22/7\r\n",
        "volume = int(pi*jari*jari*tinggi)\r\n",
        "luasp = int(2*pi*jari*(jari + tinggi))\r\n",
        "luass = int(2*pi*jari*tinggi)\r\n",
        "luasa = int(pi*jari*jari)\r\n",
        "\r\n",
        "print(\"---------------------------------\")\r\n",
        "print(\"MAKA HASILNYA\")\r\n",
        "print(\"Volume Tabung         =\",volume)\r\n",
        "print(\"Luas Permukaan Tabung =\",luasp)\r\n",
        "print(\"Luas Selimut Tabung =\",luass)\r\n",
        "print(\"Luas Alas Tabung =\",luasa) "
      ],
      "execution_count": null,
      "outputs": [
        {
          "output_type": "stream",
          "text": [
            "Masukan Jari-jarinya  : 12\n",
            "Masukan Tinggginya    : 22\n",
            "---------------------------------\n",
            "MAKA HASILNYA\n",
            "Volume Tabung         = 9956\n",
            "Luas Permukaan Tabung = 2564\n",
            "Luas Selimut Tabung = 1659\n",
            "Luas Alas Tabung = 452\n"
          ],
          "name": "stdout"
        }
      ]
    },
    {
      "cell_type": "code",
      "metadata": {
        "colab": {
          "base_uri": "https://localhost:8080/"
        },
        "id": "Za0SPsEZecCO",
        "outputId": "314e3495-03a3-43d5-80ef-cfe37366573d"
      },
      "source": [
        "jari=int(input(\"Masukan Jari-jari Bola : \"))\r\n",
        "phi=(22/7)\r\n",
        "\r\n",
        "luas = int(4*phi*(jari*jari))\r\n",
        "volume = int((4/3)*phi*(jari*jari*jari))\r\n",
        "\r\n",
        "print(\"Luas Bola = \", luas)\r\n",
        "print(\"Volume Bola = \", volume)"
      ],
      "execution_count": null,
      "outputs": [
        {
          "output_type": "stream",
          "text": [
            "Masukan Jari-jari Bola : 7\n",
            "Luas Bola =  616\n",
            "Volume Bola =  1437\n"
          ],
          "name": "stdout"
        }
      ]
    },
    {
      "cell_type": "code",
      "metadata": {
        "id": "-8wF8_8Zc5FJ"
      },
      "source": [
        ""
      ],
      "execution_count": null,
      "outputs": []
    }
  ]
}